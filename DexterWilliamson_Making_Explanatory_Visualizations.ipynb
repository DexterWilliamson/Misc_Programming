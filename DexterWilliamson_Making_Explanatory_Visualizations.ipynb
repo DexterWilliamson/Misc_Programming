{
  "nbformat": 4,
  "nbformat_minor": 0,
  "metadata": {
    "colab": {
      "name": "DexterWilliamson_Making_Explanatory_Visualizations.ipynb",
      "provenance": [],
      "collapsed_sections": [],
      "include_colab_link": true
    },
    "language_info": {
      "codemirror_mode": {
        "name": "ipython",
        "version": 3
      },
      "file_extension": ".py",
      "mimetype": "text/x-python",
      "name": "python",
      "nbconvert_exporter": "python",
      "pygments_lexer": "ipython3",
      "version": "3.7.1"
    },
    "kernelspec": {
      "display_name": "Python 3",
      "language": "python",
      "name": "python3"
    }
  },
  "cells": [
    {
      "cell_type": "markdown",
      "metadata": {
        "id": "view-in-github",
        "colab_type": "text"
      },
      "source": [
        "<a href=\"https://colab.research.google.com/github/DexterWilliamson/school_work/blob/master/DexterWilliamson_Making_Explanatory_Visualizations.ipynb\" target=\"_parent\"><img src=\"https://colab.research.google.com/assets/colab-badge.svg\" alt=\"Open In Colab\"/></a>"
      ]
    },
    {
      "cell_type": "code",
      "metadata": {
        "id": "7SY1ZHawyZvz",
        "colab_type": "code",
        "outputId": "a289f6cf-73b9-4076-d418-0f254d084db2",
        "colab": {
          "base_uri": "https://localhost:8080/",
          "height": 379
        }
      },
      "source": [
        "%matplotlib inline\n",
        "import matplotlib.pyplot as plt\n",
        "import pandas as pd\n",
        "\n",
        "fake = pd.Series([38, 3, 2, 1, 2, 4, 6, 5.5, 5.5, 33], \n",
        "                 index=range(1,11))\n",
        "\n",
        "plt.style.use('fivethirtyeight')\n",
        "\n",
        "fig, ax = plt.subplots()\n",
        "\n",
        "\n",
        "\n",
        "fake.plot.bar(width=0.9, color='#ed713a');\n",
        "\n",
        "\n",
        "ax.set_title(\"'An Inconvineint Sequel: Truth to Power', is divisive\",\n",
        "             loc='left', c='000000', fontsize='13', fontweight='bold',\n",
        "             x=-0.05, y=1.1)\n",
        "\n",
        "ax.text(s='IMDB ratings for the film as of Aug 29', x=-1.1, y=42,\n",
        "        color='black', fontsize='12')\n",
        "\n",
        "ax.set_xlabel('Rating', color='black', \n",
        "              fontweight='bold', fontsize=10, x=0.48)\n",
        "\n",
        "ax.set_ylabel('Percent of total votes', color='black', \n",
        "              fontweight='bold', fontsize=10, y=0.48)\n",
        "\n",
        "\n",
        "yticks=range(0,50,10)\n",
        "\n",
        "ax.set_yticks(ticks=yticks)\n",
        "\n",
        "fig.patch.set(facecolor='white')\n",
        "ax.set(facecolor='white')\n",
        "\n",
        "ax.spines['bottom'].set_visible(False)\n",
        "ax.spines['bottom'].set_position(('outward', 5))\n",
        "ax.spines['top'].set_visible(False)\n",
        "ax.spines['left'].set_visible(False)\n",
        "ax.spines['right'].set_visible(False)\n",
        "\n",
        "ax.set_ylim([-1,40])\n",
        "ax.set_xlim([-.65,10])\n",
        "\n",
        "ax.set_xticklabels([1,2,3,4,5,6,7,8,9,10], color='#999999',\n",
        "                   rotation='horizontal', fontsize=9);\n",
        "\n",
        "ax.set_yticklabels([0,10,20,30,'40%'], color='#999999',\n",
        "                   rotation='horizontal', fontsize=9);\n",
        "\n",
        "ax.text(s='_____________________________________________________________', color='#999999', x=-2, y=-8)\n",
        "ax.text(s='FiveThirtyEight', color='#999999', fontsize=9, x=-2, y=-10.5)\n",
        "ax.text(s='SOURCE: IMDB', color='#999999', fontsize=9, x=8.20, y=-10.5)\n",
        "#closest I could get"
      ],
      "execution_count": 0,
      "outputs": [
        {
          "output_type": "execute_result",
          "data": {
            "text/plain": [
              "Text(8.2, -10.5, 'SOURCE: IMDB')"
            ]
          },
          "metadata": {
            "tags": []
          },
          "execution_count": 2
        },
        {
          "output_type": "display_data",
          "data": {
            "image/png": "[encoded data removed]",
            "text/plain": [
              "<Figure size 432x288 with 1 Axes>"
            ]
          },
          "metadata": {
            "tags": []
          }
        }
      ]
    },
    {
      "cell_type": "code",
      "metadata": {
        "id": "8cVAVekK2NeC",
        "colab_type": "code",
        "outputId": "0d8b30e8-83a7-4d1e-8ef2-b3fede11c822",
        "colab": {
          "base_uri": "https://localhost:8080/",
          "height": 425
        }
      },
      "source": [
        "#Take in data\n",
        "\n",
        "data = pd.read_csv('https://raw.githubusercontent.com/fivethirtyeight/data/master/drug-use-by-age/drug-use-by-age.csv')\n",
        "\n",
        "#Get rid of unneeded data\n",
        "\n",
        "data2 = data.iloc[15:]\n",
        "data2 = data2.drop([16,16])\n",
        "data2 = data2.drop(['n', 'alcohol-use', 'alcohol-frequency', 'age'], axis=1)\n",
        "\n",
        "#Create list of undesirables and drop them\n",
        "\n",
        "droplist = [i for i in data2.columns if i.endswith('frequency')]\n",
        "data2.drop(droplist,axis=1,inplace=True)\n",
        "\n",
        "#Transposed and tidied since the original format was hard to work with\n",
        "\n",
        "data2 = data2.T\n",
        "data2 = data2.reset_index()\n",
        "data2 = data2.rename(columns=({\n",
        "    'index' : 'Drug',\n",
        "    15 : 'Usage'\n",
        "}))\n",
        "\n",
        "#Clean up a little bit\n",
        "\n",
        "data2['Drug'] = data2['Drug'].str.replace(r'-use', '', regex=True)\n",
        "\n",
        "data2['Drug'] = data2['Drug'].str.replace(r'-', ' ', regex=True)\n",
        "\n",
        "data2['Drug'] = data2['Drug'].str.capitalize()\n",
        "\n",
        "data2 = data2.sort_values(['Usage', 'Drug'], axis=0, ascending=False)\n",
        "\n",
        "data2"
      ],
      "execution_count": 0,
      "outputs": [
        {
          "output_type": "execute_result",
          "data": {
            "text/html": [
              "<div>\n",
              "<style scoped>\n",
              "    .dataframe tbody tr th:only-of-type {\n",
              "        vertical-align: middle;\n",
              "    }\n",
              "\n",
              "    .dataframe tbody tr th {\n",
              "        vertical-align: top;\n",
              "    }\n",
              "\n",
              "    .dataframe thead th {\n",
              "        text-align: right;\n",
              "    }\n",
              "</style>\n",
              "<table border=\"1\" class=\"dataframe\">\n",
              "  <thead>\n",
              "    <tr style=\"text-align: right;\">\n",
              "      <th></th>\n",
              "      <th>Drug</th>\n",
              "      <th>Usage</th>\n",
              "    </tr>\n",
              "  </thead>\n",
              "  <tbody>\n",
              "    <tr>\n",
              "      <th>0</th>\n",
              "      <td>Marijuana</td>\n",
              "      <td>7.3</td>\n",
              "    </tr>\n",
              "    <tr>\n",
              "      <th>6</th>\n",
              "      <td>Pain releiver</td>\n",
              "      <td>2.5</td>\n",
              "    </tr>\n",
              "    <tr>\n",
              "      <th>8</th>\n",
              "      <td>Tranquilizer</td>\n",
              "      <td>1.4</td>\n",
              "    </tr>\n",
              "    <tr>\n",
              "      <th>1</th>\n",
              "      <td>Cocaine</td>\n",
              "      <td>0.9</td>\n",
              "    </tr>\n",
              "    <tr>\n",
              "      <th>7</th>\n",
              "      <td>Oxycontin</td>\n",
              "      <td>0.4</td>\n",
              "    </tr>\n",
              "    <tr>\n",
              "      <th>2</th>\n",
              "      <td>Crack</td>\n",
              "      <td>0.4</td>\n",
              "    </tr>\n",
              "    <tr>\n",
              "      <th>9</th>\n",
              "      <td>Stimulant</td>\n",
              "      <td>0.3</td>\n",
              "    </tr>\n",
              "    <tr>\n",
              "      <th>4</th>\n",
              "      <td>Hallucinogen</td>\n",
              "      <td>0.3</td>\n",
              "    </tr>\n",
              "    <tr>\n",
              "      <th>11</th>\n",
              "      <td>Sedative</td>\n",
              "      <td>0.2</td>\n",
              "    </tr>\n",
              "    <tr>\n",
              "      <th>10</th>\n",
              "      <td>Meth</td>\n",
              "      <td>0.2</td>\n",
              "    </tr>\n",
              "    <tr>\n",
              "      <th>5</th>\n",
              "      <td>Inhalant</td>\n",
              "      <td>0.2</td>\n",
              "    </tr>\n",
              "    <tr>\n",
              "      <th>3</th>\n",
              "      <td>Heroin</td>\n",
              "      <td>0.1</td>\n",
              "    </tr>\n",
              "  </tbody>\n",
              "</table>\n",
              "</div>"
            ],
            "text/plain": [
              "             Drug  Usage\n",
              "0       Marijuana    7.3\n",
              "6   Pain releiver    2.5\n",
              "8    Tranquilizer    1.4\n",
              "1         Cocaine    0.9\n",
              "7       Oxycontin    0.4\n",
              "2           Crack    0.4\n",
              "9       Stimulant    0.3\n",
              "4    Hallucinogen    0.3\n",
              "11       Sedative    0.2\n",
              "10           Meth    0.2\n",
              "5        Inhalant    0.2\n",
              "3          Heroin    0.1"
            ]
          },
          "metadata": {
            "tags": []
          },
          "execution_count": 3
        }
      ]
    },
    {
      "cell_type": "code",
      "metadata": {
        "id": "fEZd40KwNnwk",
        "colab_type": "code",
        "outputId": "2fdb0b4a-a4dc-440a-cfe4-3651f18a6628",
        "colab": {
          "base_uri": "https://localhost:8080/",
          "height": 440
        }
      },
      "source": [
        "import numpy as np\n",
        "\n",
        "#Set the style and reset to defualts\n",
        "\n",
        "plt.style.use('fivethirtyeight')\n",
        "\n",
        "plt.rcdefaults()\n",
        "\n",
        "#Didn't want to do this but the data in the csv doesn't match the graph\n",
        "\n",
        "usage = pd.Series([7.29, 2.52, 1.43, 0.87, 0.36, 0.36,\n",
        "                   0.28, 0.25, 0.23, .15, .15, 0.05], index=range(1,13))\n",
        "\n",
        "fig, ax = plt.subplots()\n",
        "\n",
        "#Define the chart\n",
        "\n",
        "data2['Usage'].plot.barh(width=0.9, color='#ff2600')\n",
        "\n",
        "#Just getting the amount of ticks from the amount of.....drugs\n",
        "\n",
        "num_drugs = np.arange(len(data2['Drug']))\n",
        "\n",
        "ax.set_yticks(num_drugs)\n",
        "\n",
        "#Put on the labels and flip it so it matches the picture\n",
        "\n",
        "ax.set_yticklabels(data2['Drug'])\n",
        "\n",
        "ax.invert_yaxis() \n",
        "\n",
        "fig.patch.set(facecolor='white')\n",
        "ax.set(facecolor='white')\n",
        "\n",
        "#Get rid of the spines\n",
        "\n",
        "ax.spines['bottom'].set_visible(False)\n",
        "ax.spines['top'].set_visible(False)\n",
        "ax.spines['left'].set_visible(False)\n",
        "ax.spines['right'].set_visible(False)\n",
        "\n",
        "#Get rid of the ticks on both axis and remove the x axis label\n",
        "\n",
        "ax.tick_params(axis=u'both', which=u'both',length=0)\n",
        "ax.tick_params(axis='x', labelsize=0)\n",
        "\n",
        "#Place the numbers infront of the bar depending on it's x,y\n",
        "\n",
        "for i, num in enumerate(usage):\n",
        "\n",
        "    if num == 7.29:\n",
        "\n",
        "      ax.text(num + .1, i + .20, '7.29%', color='#484848', fontsize=9)\n",
        "\n",
        "    else:\n",
        "\n",
        "      ax.text(num + .1, i + .20, str(num), color='#484848', fontsize=9)\n",
        "\n",
        "ax.text(s='____________________________________________________________________________________________', color='#999999', x=-2, y=12)\n",
        "ax.text(s='FiveThirtyEight', color='#999999', fontsize=9, x=-2, y=12.75)\n",
        "ax.text(s='SOURCE: SAMHDA', color='#999999', fontsize=9, x=6.15, y=12.75)\n",
        "\n",
        "plt.show()"
      ],
      "execution_count": 0,
      "outputs": [
        {
          "output_type": "display_data",
          "data": {
            "image/png": "[encoded data removed]",
            "text/plain": [
              "<Figure size 640x480 with 1 Axes>"
            ]
          },
          "metadata": {
            "tags": []
          }
        }
      ]
    },
    {
      "cell_type": "code",
      "metadata": {
        "id": "dRJkKftiy5BJ",
        "colab_type": "code",
        "colab": {}
      },
      "source": [
        "country_data = pd.read_csv('https://raw.githubusercontent.com/fivethirtyeight/data/master/thanksgiving-2015/thanksgiving-2015-poll-data.csv')"
      ],
      "execution_count": 0,
      "outputs": []
    },
    {
      "cell_type": "code",
      "metadata": {
        "id": "vxmSm8O5mxSD",
        "colab_type": "code",
        "colab": {}
      },
      "source": [
        "data = country_data.filter(regex='side dish')\n",
        "\n",
        "headers = pd.DataFrame({'Side_Dish' : ['Brussel_Sprouts', 'Carrots', 'Cauliflower', 'Corn',\n",
        "                    'Cornbread', 'Fruit_Salad', 'Green_Beans', 'Mac & Cheese',\n",
        "                    'Mash_Potatoes', 'Rolls', 'Squash', 'Vegitable_Salad',\n",
        "                    'Yams','Other1', 'Other2']})\n",
        "\n",
        "\n",
        "\n",
        "\n",
        "#data = data.T\n",
        "data = pd.concat([data, headers], axis=1)\n",
        "data = pd.concat([data, country_data['US Region']], axis=1)\n",
        "\n",
        "data = data.reset_index()"
      ],
      "execution_count": 0,
      "outputs": []
    },
    {
      "cell_type": "code",
      "metadata": {
        "id": "laovZLERoQi4",
        "colab_type": "code",
        "colab": {}
      },
      "source": [
        "test = 'Which of these side dishes aretypically served at your Thanksgiving dinner? Please select all that apply. - Brussel sprouts'\n"
      ],
      "execution_count": 0,
      "outputs": []
    },
    {
      "cell_type": "code",
      "metadata": {
        "id": "sjqtl9KtqKQk",
        "colab_type": "code",
        "colab": {}
      },
      "source": [
        ""
      ],
      "execution_count": 0,
      "outputs": []
    },
    {
      "cell_type": "code",
      "metadata": {
        "id": "mAnVxGztuyri",
        "colab_type": "code",
        "outputId": "445d2896-2c02-4ae0-cfe6-4d57b3673ef3",
        "colab": {
          "base_uri": "https://localhost:8080/",
          "height": 242
        }
      },
      "source": [
        "data['total_food']"
      ],
      "execution_count": 0,
      "outputs": [
        {
          "output_type": "execute_result",
          "data": {
            "text/plain": [
              "0       155\n",
              "1       155\n",
              "2       155\n",
              "3       155\n",
              "4       155\n",
              "       ... \n",
              "1053    155\n",
              "1054    155\n",
              "1055    155\n",
              "1056    155\n",
              "1057    155\n",
              "Name: total_food, Length: 1058, dtype: int64"
            ]
          },
          "metadata": {
            "tags": []
          },
          "execution_count": 224
        }
      ]
    },
    {
      "cell_type": "code",
      "metadata": {
        "id": "9ojdAeqIwP8v",
        "colab_type": "code",
        "outputId": "1e5ab126-2f35-4618-e8f8-4152e1052eb3",
        "colab": {
          "base_uri": "https://localhost:8080/",
          "height": 36
        }
      },
      "source": [
        "data['Which of these side dishes aretypically served at your Thanksgiving dinner? Please select all that apply. - Carrots'].value_counts().sum()"
      ],
      "execution_count": 0,
      "outputs": [
        {
          "output_type": "execute_result",
          "data": {
            "text/plain": [
              "242"
            ]
          },
          "metadata": {
            "tags": []
          },
          "execution_count": 246
        }
      ]
    },
    {
      "cell_type": "code",
      "metadata": {
        "id": "c0ODKF1Z9FJN",
        "colab_type": "code",
        "colab": {}
      },
      "source": [
        ""
      ],
      "execution_count": 0,
      "outputs": []
    }
  ]
}